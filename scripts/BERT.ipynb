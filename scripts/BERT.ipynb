{
 "cells": [
  {
   "cell_type": "code",
   "execution_count": null,
   "id": "91e01e85-1125-478e-9b86-c98735828cea",
   "metadata": {},
   "outputs": [],
   "source": [
    "%env ONEDNN_VERBOSE=1"
   ]
  },
  {
   "cell_type": "code",
   "execution_count": null,
   "id": "553e5226-9d85-43f7-9ebc-46b9917b0511",
   "metadata": {},
   "outputs": [],
   "source": [
    "!omz_downloader --name bert-large-uncased-whole-word-masking-squad-0001"
   ]
  },
  {
   "cell_type": "code",
   "execution_count": null,
   "id": "bf5a8875-67ac-4afd-b7b6-108e7c6131eb",
   "metadata": {},
   "outputs": [],
   "source": [
    "%cd /opt/app-root/src/intel/bert-large-uncased-whole-word-masking-squad-0001/FP32/"
   ]
  },
  {
   "cell_type": "code",
   "execution_count": null,
   "id": "6aad023d-2032-4cc7-8634-1d63eaedcff1",
   "metadata": {},
   "outputs": [],
   "source": [
    "!benchmark_app -m bert-large-uncased-whole-word-masking-squad-0001.xml -infer_precision bf16"
   ]
  }
 ],
 "metadata": {
  "kernelspec": {
   "display_name": "Python 3 (ipykernel)",
   "language": "python",
   "name": "python3"
  },
  "language_info": {
   "codemirror_mode": {
    "name": "ipython",
    "version": 3
   },
   "file_extension": ".py",
   "mimetype": "text/x-python",
   "name": "python",
   "nbconvert_exporter": "python",
   "pygments_lexer": "ipython3",
   "version": "3.8.6"
  }
 },
 "nbformat": 4,
 "nbformat_minor": 5
}
